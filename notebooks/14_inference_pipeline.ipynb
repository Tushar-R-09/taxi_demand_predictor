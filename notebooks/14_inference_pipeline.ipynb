{
 "cells": [
  {
   "cell_type": "code",
   "execution_count": 4,
   "metadata": {},
   "outputs": [
    {
     "name": "stdout",
     "output_type": "stream",
     "text": [
      "The autoreload extension is already loaded. To reload it, use:\n",
      "  %reload_ext autoreload\n"
     ]
    }
   ],
   "source": [
    "%load_ext autoreload\n",
    "%autoreload 2"
   ]
  },
  {
   "cell_type": "code",
   "execution_count": 5,
   "metadata": {},
   "outputs": [
    {
     "name": "stdout",
     "output_type": "stream",
     "text": [
      "current_date = Timestamp('2025-01-14 09:00:00+0000', tz='UTC')\n"
     ]
    }
   ],
   "source": [
    "from datetime import datetime\n",
    "import pandas as pd\n",
    "\n",
    "current_date = pd.to_datetime(datetime.utcnow(), utc=True).floor('H')\n",
    "print(f'{current_date = }')"
   ]
  },
  {
   "cell_type": "code",
   "execution_count": 6,
   "metadata": {},
   "outputs": [
    {
     "name": "stdout",
     "output_type": "stream",
     "text": [
      "2025-01-14 15:07:25,726 INFO: Closing external client and cleaning up certificates.\n",
      "Connection closed.\n",
      "2025-01-14 15:07:25,753 INFO: Initializing external client\n",
      "2025-01-14 15:07:25,753 INFO: Base URL: https://c.app.hopsworks.ai:443\n",
      "2025-01-14 15:07:27,706 INFO: Python Engine initialized.\n",
      "\n",
      "Logged in to project, explore it here https://c.app.hopsworks.ai:443/p/1207467\n",
      "Finished: Reading data from Hopsworks, using Hopsworks Feature Query Service (7.69s) \n",
      "ts_data =                      pickup_hour  pickup_location_id  rides\n",
      "49120  2024-12-17 09:00:00+00:00                   1    1.0\n",
      "147689 2024-12-17 10:00:00+00:00                   1    1.0\n",
      "127337 2024-12-17 11:00:00+00:00                   1    1.0\n",
      "35706  2024-12-17 12:00:00+00:00                   1    1.0\n",
      "26403  2024-12-17 13:00:00+00:00                   1    3.0\n",
      "...                          ...                 ...    ...\n",
      "92006  2025-01-14 04:00:00+00:00                 263    7.0\n",
      "76509  2025-01-14 05:00:00+00:00                 263   13.0\n",
      "125665 2025-01-14 06:00:00+00:00                 263   57.0\n",
      "158953 2025-01-14 07:00:00+00:00                 263  101.0\n",
      "148321 2025-01-14 08:00:00+00:00                 263  106.0\n",
      "\n",
      "[174720 rows x 3 columns]\n"
     ]
    }
   ],
   "source": [
    "from src.inference import load_batch_of_features_from_store\n",
    "\n",
    "features = load_batch_of_features_from_store(current_date)"
   ]
  },
  {
   "cell_type": "code",
   "execution_count": null,
   "metadata": {},
   "outputs": [],
   "source": []
  }
 ],
 "metadata": {
  "kernelspec": {
   "display_name": "src-y3nyV4sh-py3.9",
   "language": "python",
   "name": "python3"
  },
  "language_info": {
   "codemirror_mode": {
    "name": "ipython",
    "version": 3
   },
   "file_extension": ".py",
   "mimetype": "text/x-python",
   "name": "python",
   "nbconvert_exporter": "python",
   "pygments_lexer": "ipython3",
   "version": "3.9.13"
  }
 },
 "nbformat": 4,
 "nbformat_minor": 2
}
