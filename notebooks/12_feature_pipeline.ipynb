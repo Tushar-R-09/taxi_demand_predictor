{
 "cells": [
  {
   "cell_type": "code",
   "execution_count": 11,
   "metadata": {},
   "outputs": [],
   "source": [
    "import src.config as config"
   ]
  },
  {
   "cell_type": "code",
   "execution_count": 12,
   "metadata": {},
   "outputs": [
    {
     "name": "stdout",
     "output_type": "stream",
     "text": [
      "current_date = Timestamp('2025-01-14 09:00:00+0000', tz='UTC')\n"
     ]
    }
   ],
   "source": [
    "from datetime import datetime, timedelta, timezone\n",
    "\n",
    "import pandas as pd\n",
    "\n",
    "current_date = pd.to_datetime(datetime.now(timezone.utc)).floor('H')\n",
    "print(f'{current_date = }')\n",
    "\n",
    "fetch_date_to = current_date\n",
    "\n",
    "fetch_date_from = current_date - timedelta(days = 32)"
   ]
  },
  {
   "cell_type": "code",
   "execution_count": 13,
   "metadata": {},
   "outputs": [],
   "source": [
    "from src.data import load_raw_data\n",
    "\n",
    "def fetch_batch_raw_data(from_date: datetime, to_date: datetime) -> pd.DataFrame:\n",
    "    from_date_ = from_date - timedelta(days = 7*52)\n",
    "    to_date_ = to_date - timedelta(days = 7*52)\n",
    "\n",
    "    rides = load_raw_data(year = from_date_.year, months = from_date_.month)\n",
    "    rides = rides[rides.pickup_datetime >= from_date_]\n",
    "\n",
    "    rides_2 = load_raw_data(year = to_date_.year, months=to_date_.month)\n",
    "    rides_2 = rides_2[rides_2.pickup_datetime < to_date_]\n",
    "    rides = pd.concat([rides, rides_2])\n",
    "\n",
    "    rides[\"pickup_datetime\"] += timedelta(days=7*52)\n",
    "\n",
    "    rides.sort_values(by = [\"pickup_location_id\", \"pickup_datetime\"], inplace = True)\n",
    "    return rides"
   ]
  },
  {
   "cell_type": "code",
   "execution_count": 14,
   "metadata": {},
   "outputs": [
    {
     "name": "stdout",
     "output_type": "stream",
     "text": [
      " File 2023-12 already exists\n",
      " File 2024-01 already exists\n"
     ]
    }
   ],
   "source": [
    "rides = fetch_batch_raw_data(from_date=fetch_date_from, to_date=fetch_date_to)"
   ]
  },
  {
   "cell_type": "code",
   "execution_count": 15,
   "metadata": {},
   "outputs": [
    {
     "name": "stderr",
     "output_type": "stream",
     "text": [
      "100%|██████████| 256/256 [00:00<00:00, 274.86it/s]\n"
     ]
    }
   ],
   "source": [
    "from src.data import transform_raw_data_into_ts_data\n",
    "ts_data = transform_raw_data_into_ts_data(rides)"
   ]
  },
  {
   "cell_type": "code",
   "execution_count": 16,
   "metadata": {},
   "outputs": [],
   "source": [
    "location_id_per_pickup_hour = set(list(ts_data.groupby('pickup_hour')['pickup_location_id'].nunique()))\n",
    "pickup_hour_per_location_id = set(list(ts_data.groupby('pickup_location_id')['pickup_hour'].nunique()))"
   ]
  },
  {
   "cell_type": "code",
   "execution_count": 17,
   "metadata": {},
   "outputs": [],
   "source": [
    "assert len(location_id_per_pickup_hour) == 1 and len(pickup_hour_per_location_id) == 1"
   ]
  },
  {
   "cell_type": "code",
   "execution_count": 18,
   "metadata": {},
   "outputs": [
    {
     "name": "stdout",
     "output_type": "stream",
     "text": [
      "2025-01-14 15:05:08,613 INFO: Closing external client and cleaning up certificates.\n",
      "Connection closed.\n",
      "2025-01-14 15:05:08,620 INFO: Initializing external client\n",
      "2025-01-14 15:05:08,621 INFO: Base URL: https://c.app.hopsworks.ai:443\n",
      "2025-01-14 15:05:10,563 INFO: Python Engine initialized.\n",
      "\n",
      "Logged in to project, explore it here https://c.app.hopsworks.ai:443/p/1207467\n"
     ]
    }
   ],
   "source": [
    "import hopsworks\n",
    "\n",
    "project = hopsworks.login(\n",
    "    project = config.HOPSWORKS_PROJECT_NAME,\n",
    "    api_key_value = config.HOPSWORKS_API_KEY\n",
    ")\n",
    "\n",
    "feature_store = project.get_feature_store()\n",
    "\n",
    "feature_group = feature_store.get_or_create_feature_group(\n",
    "    name = config.FEATURE_GROUP_NAME,\n",
    "    version = config.FEATURE_GROUP_VERSION,\n",
    "    description = \"Time-series data at hourly frequency\",\n",
    "    primary_key = [\"pickup_location_id\",\"pickup_hour\"],\n",
    "    event_time = \"pickup_hour\"\n",
    ")"
   ]
  },
  {
   "cell_type": "code",
   "execution_count": 19,
   "metadata": {},
   "outputs": [
    {
     "name": "stdout",
     "output_type": "stream",
     "text": [
      "pickup_hour           datetime64[ns, UTC]\n",
      "pickup_location_id                  int64\n",
      "rides                             float64\n",
      "dtype: object\n"
     ]
    }
   ],
   "source": [
    "ts_data['pickup_location_id'] = ts_data['pickup_location_id'].astype('int64')\n",
    "\n",
    "print(ts_data.dtypes)"
   ]
  },
  {
   "cell_type": "code",
   "execution_count": 20,
   "metadata": {},
   "outputs": [
    {
     "name": "stderr",
     "output_type": "stream",
     "text": [
      "Uploading Dataframe: 100.00% |██████████| Rows 205660/205660 | Elapsed Time: 00:13 | Remaining Time: 00:00\n"
     ]
    },
    {
     "name": "stdout",
     "output_type": "stream",
     "text": [
      "Launching job: time_series_hourly_feature_group_v2_1_offline_fg_materialization\n",
      "Job started successfully, you can follow the progress at \n",
      "https://c.app.hopsworks.ai:443/p/1207467/jobs/named/time_series_hourly_feature_group_v2_1_offline_fg_materialization/executions\n"
     ]
    },
    {
     "data": {
      "text/plain": [
       "(Job('time_series_hourly_feature_group_v2_1_offline_fg_materialization', 'SPARK'),\n",
       " None)"
      ]
     },
     "execution_count": 20,
     "metadata": {},
     "output_type": "execute_result"
    }
   ],
   "source": [
    "feature_group.insert(ts_data, write_options={\"wait_for_job\": False})"
   ]
  },
  {
   "cell_type": "code",
   "execution_count": null,
   "metadata": {},
   "outputs": [],
   "source": []
  }
 ],
 "metadata": {
  "kernelspec": {
   "display_name": "src-y3nyV4sh-py3.9",
   "language": "python",
   "name": "python3"
  },
  "language_info": {
   "codemirror_mode": {
    "name": "ipython",
    "version": 3
   },
   "file_extension": ".py",
   "mimetype": "text/x-python",
   "name": "python",
   "nbconvert_exporter": "python",
   "pygments_lexer": "ipython3",
   "version": "3.9.13"
  }
 },
 "nbformat": 4,
 "nbformat_minor": 2
}
