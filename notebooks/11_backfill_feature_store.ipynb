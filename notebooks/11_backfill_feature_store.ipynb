{
 "cells": [
  {
   "cell_type": "code",
   "execution_count": 1,
   "metadata": {},
   "outputs": [],
   "source": [
    "HOPSWORK_PROJECT_NAME = \"taxidemand\""
   ]
  },
  {
   "cell_type": "code",
   "execution_count": 2,
   "metadata": {},
   "outputs": [],
   "source": [
    "import os\n",
    "from dotenv import load_dotenv\n",
    "from src.paths import PARENT_DIR\n",
    "\n",
    "load_dotenv(PARENT_DIR / \".env\")\n",
    "\n",
    "HOPSWORK_API_KEY = os.environ[\"HOPSWORK_API_KEY\"]"
   ]
  },
  {
   "cell_type": "code",
   "execution_count": 3,
   "metadata": {},
   "outputs": [
    {
     "name": "stdout",
     "output_type": "stream",
     "text": [
      "Downloading raw data from 2022 to 2024\n",
      " File 2022-01 already exists\n",
      " File 2022-02 already exists\n",
      " File 2022-03 already exists\n",
      " File 2022-04 already exists\n",
      " File 2022-05 already exists\n",
      " File 2022-06 already exists\n",
      " File 2022-07 already exists\n",
      " File 2022-08 already exists\n",
      " File 2022-09 already exists\n",
      " File 2022-10 already exists\n",
      " File 2022-11 already exists\n",
      " File 2022-12 already exists\n",
      " File 2023-01 already exists\n",
      " File 2023-02 already exists\n",
      " File 2023-03 already exists\n",
      " File 2023-04 already exists\n",
      " File 2023-05 already exists\n",
      " File 2023-06 already exists\n",
      " File 2023-07 already exists\n",
      " File 2023-08 already exists\n",
      " File 2023-09 already exists\n",
      " File 2023-10 already exists\n",
      " File 2023-11 already exists\n",
      " File 2023-12 already exists\n",
      " File 2024-01 already exists\n",
      " File 2024-02 already exists\n",
      " File 2024-03 already exists\n",
      " File 2024-04 already exists\n",
      " File 2024-05 already exists\n",
      " File 2024-06 already exists\n",
      " File 2024-07 already exists\n",
      " File 2024-08 already exists\n",
      " File 2024-09 already exists\n",
      " File 2024-10 already exists\n",
      "Downloading file 2024-11\n",
      "Failed to download 2024-11\n",
      "Downloading file 2024-12\n",
      "Failed to download 2024-12\n"
     ]
    }
   ],
   "source": [
    "from datetime import datetime\n",
    "import pandas as pd\n",
    "from src.data import load_raw_data\n",
    "\n",
    "from_year = 2022\n",
    "to_year = datetime.now().year\n",
    "print(f'Downloading raw data from {from_year} to {to_year}')\n",
    "\n",
    "rides = pd.DataFrame()\n",
    "for year in range(from_year, to_year + 1):\n",
    "    rides_one_year = load_raw_data(year)\n",
    "    rides = pd.concat([rides, rides_one_year])"
   ]
  },
  {
   "cell_type": "code",
   "execution_count": 4,
   "metadata": {},
   "outputs": [
    {
     "name": "stderr",
     "output_type": "stream",
     "text": [
      "100%|██████████| 263/263 [00:16<00:00, 16.14it/s]\n"
     ]
    }
   ],
   "source": [
    "from src.data import transform_raw_data_into_ts_data\n",
    "ts_data = transform_raw_data_into_ts_data(rides)"
   ]
  },
  {
   "cell_type": "code",
   "execution_count": 5,
   "metadata": {},
   "outputs": [
    {
     "data": {
      "text/plain": [
       "(6532920, 3)"
      ]
     },
     "execution_count": 5,
     "metadata": {},
     "output_type": "execute_result"
    }
   ],
   "source": [
    "ts_data.shape"
   ]
  },
  {
   "cell_type": "code",
   "execution_count": 6,
   "metadata": {},
   "outputs": [],
   "source": [
    "import hopsworks\n",
    "from confluent_kafka import Producer\n"
   ]
  },
  {
   "cell_type": "code",
   "execution_count": 7,
   "metadata": {},
   "outputs": [
    {
     "data": {
      "text/plain": [
       "'HIStsugDKH9AIE6Y.ImZGTncDlwIACwi6s4iY14EBNKdOs1rHsDT3MYcQDsjXt02mlZGzyTQLGBWPE6MU'"
      ]
     },
     "execution_count": 7,
     "metadata": {},
     "output_type": "execute_result"
    }
   ],
   "source": [
    "HOPSWORK_API_KEY"
   ]
  },
  {
   "cell_type": "code",
   "execution_count": 8,
   "metadata": {},
   "outputs": [
    {
     "name": "stdout",
     "output_type": "stream",
     "text": [
      "2024-12-28 18:48:04,288 INFO: Initializing external client\n",
      "2024-12-28 18:48:04,288 INFO: Base URL: https://c.app.hopsworks.ai:443\n",
      "2024-12-28 18:48:11,295 INFO: Python Engine initialized.\n",
      "\n",
      "Logged in to project, explore it here https://c.app.hopsworks.ai:443/p/1207467\n"
     ]
    }
   ],
   "source": [
    "project = hopsworks.login(\n",
    "    project = HOPSWORK_PROJECT_NAME,\n",
    "    api_key_value = HOPSWORK_API_KEY\n",
    ")"
   ]
  },
  {
   "cell_type": "code",
   "execution_count": 9,
   "metadata": {},
   "outputs": [],
   "source": [
    "feature_store = project.get_feature_store()"
   ]
  },
  {
   "cell_type": "code",
   "execution_count": 10,
   "metadata": {},
   "outputs": [],
   "source": [
    "FEATURE_GROUP_NAME = \"time_series_hourly_feature_group\"\n",
    "FEATURE_GROUP_VERSION = 1"
   ]
  },
  {
   "cell_type": "code",
   "execution_count": 11,
   "metadata": {},
   "outputs": [],
   "source": [
    "feature_group = feature_store.get_or_create_feature_group(\n",
    "    name = FEATURE_GROUP_NAME,\n",
    "    version = FEATURE_GROUP_VERSION,\n",
    "    description = \"Time-series data at hourly frequency\",\n",
    "    primary_key = [\"pickup_location_id\",\"pickup_hour\"],\n",
    "    event_time = \"pickup_hour\"\n",
    ")"
   ]
  },
  {
   "cell_type": "code",
   "execution_count": 12,
   "metadata": {},
   "outputs": [
    {
     "name": "stdout",
     "output_type": "stream",
     "text": [
      "Feature Group created successfully, explore it at \n",
      "https://c.app.hopsworks.ai:443/p/1207467/fs/1196121/fg/1394303\n"
     ]
    },
    {
     "name": "stderr",
     "output_type": "stream",
     "text": [
      "Uploading Dataframe: 100.00% |██████████| Rows 6532920/6532920 | Elapsed Time: 08:59 | Remaining Time: 00:00\n"
     ]
    },
    {
     "name": "stdout",
     "output_type": "stream",
     "text": [
      "Launching job: time_series_hourly_feature_group_1_offline_fg_materialization\n",
      "Job started successfully, you can follow the progress at \n",
      "https://c.app.hopsworks.ai:443/p/1207467/jobs/named/time_series_hourly_feature_group_1_offline_fg_materialization/executions\n"
     ]
    },
    {
     "data": {
      "text/plain": [
       "(Job('time_series_hourly_feature_group_1_offline_fg_materialization', 'SPARK'),\n",
       " None)"
      ]
     },
     "execution_count": 12,
     "metadata": {},
     "output_type": "execute_result"
    }
   ],
   "source": [
    "feature_group.insert(ts_data, write_options={\"wait_for_job\": False})"
   ]
  },
  {
   "cell_type": "code",
   "execution_count": null,
   "metadata": {},
   "outputs": [],
   "source": []
  }
 ],
 "metadata": {
  "kernelspec": {
   "display_name": "src-y3nyV4sh-py3.9",
   "language": "python",
   "name": "python3"
  },
  "language_info": {
   "codemirror_mode": {
    "name": "ipython",
    "version": 3
   },
   "file_extension": ".py",
   "mimetype": "text/x-python",
   "name": "python",
   "nbconvert_exporter": "python",
   "pygments_lexer": "ipython3",
   "version": "3.9.13"
  }
 },
 "nbformat": 4,
 "nbformat_minor": 2
}
