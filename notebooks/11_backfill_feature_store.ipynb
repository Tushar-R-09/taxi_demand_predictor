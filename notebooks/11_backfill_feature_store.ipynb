{
 "cells": [
  {
   "cell_type": "code",
   "execution_count": 1,
   "metadata": {},
   "outputs": [],
   "source": [
    "import os\n",
    "from dotenv import load_dotenv\n",
    "from src.paths import PARENT_DIR\n",
    "from src.data import transform_raw_data_into_ts_data\n",
    "import hopsworks\n",
    "import src.config as config\n",
    "from confluent_kafka import Producer\n",
    "\n",
    "\n",
    "load_dotenv(PARENT_DIR / \".env\")\n",
    "\n",
    "HOPSWORK_API_KEY = os.environ[\"HOPSWORKS_API_KEY\"]"
   ]
  },
  {
   "cell_type": "code",
   "execution_count": 2,
   "metadata": {},
   "outputs": [
    {
     "name": "stdout",
     "output_type": "stream",
     "text": [
      "2025-01-18 20:53:01,066 INFO: Initializing external client\n",
      "2025-01-18 20:53:01,066 INFO: Base URL: https://c.app.hopsworks.ai:443\n",
      "2025-01-18 20:53:07,061 INFO: Python Engine initialized.\n",
      "\n",
      "Logged in to project, explore it here https://c.app.hopsworks.ai:443/p/1207467\n"
     ]
    }
   ],
   "source": [
    "project = hopsworks.login(\n",
    "    project = config.HOPSWORKS_PROJECT_NAME,\n",
    "    api_key_value = HOPSWORK_API_KEY\n",
    ")\n",
    "feature_store = project.get_feature_store()\n",
    "FEATURE_GROUP_NAME = config.FEATURE_GROUP_NAME\n",
    "FEATURE_GROUP_VERSION = 1\n",
    "feature_store = project.get_feature_store()\n",
    "feature_group = feature_store.get_or_create_feature_group(\n",
    "    name = FEATURE_GROUP_NAME,\n",
    "    version = FEATURE_GROUP_VERSION,\n",
    "    description = \"Time-series data at hourly frequency\",\n",
    "    primary_key = [\"pickup_location_id\",\"pickup_hour\"],\n",
    "    event_time = \"pickup_hour\"\n",
    ")"
   ]
  },
  {
   "cell_type": "code",
   "execution_count": 3,
   "metadata": {},
   "outputs": [
    {
     "name": "stdout",
     "output_type": "stream",
     "text": [
      "Downloading raw data from 2022 to 2025\n",
      " File 2022-01 already exists\n",
      " File 2022-02 already exists\n",
      " File 2022-03 already exists\n",
      " File 2022-04 already exists\n",
      " File 2022-05 already exists\n",
      " File 2022-06 already exists\n",
      " File 2022-07 already exists\n",
      " File 2022-08 already exists\n",
      " File 2022-09 already exists\n",
      " File 2022-10 already exists\n",
      " File 2022-11 already exists\n",
      " File 2022-12 already exists\n"
     ]
    },
    {
     "name": "stderr",
     "output_type": "stream",
     "text": [
      "100%|██████████| 258/258 [00:05<00:00, 51.03it/s]\n"
     ]
    },
    {
     "name": "stdout",
     "output_type": "stream",
     "text": [
      "Feature Group created successfully, explore it at \n",
      "https://c.app.hopsworks.ai:443/p/1207467/fs/1196121/fg/1395224\n"
     ]
    },
    {
     "name": "stderr",
     "output_type": "stream",
     "text": [
      "Uploading Dataframe: 100.00% |██████████| Rows 2277340/2277340 | Elapsed Time: 02:24 | Remaining Time: 00:00\n"
     ]
    },
    {
     "name": "stdout",
     "output_type": "stream",
     "text": [
      "Launching job: time_series_hourly_feature_group_1_offline_fg_materialization\n",
      "Job started successfully, you can follow the progress at \n",
      "https://c.app.hopsworks.ai:443/p/1207467/jobs/named/time_series_hourly_feature_group_1_offline_fg_materialization/executions\n",
      " File 2023-01 already exists\n",
      " File 2023-02 already exists\n",
      " File 2023-03 already exists\n",
      " File 2023-04 already exists\n",
      " File 2023-05 already exists\n",
      " File 2023-06 already exists\n",
      " File 2023-07 already exists\n",
      " File 2023-08 already exists\n",
      " File 2023-09 already exists\n",
      " File 2023-10 already exists\n",
      " File 2023-11 already exists\n",
      " File 2023-12 already exists\n"
     ]
    },
    {
     "name": "stderr",
     "output_type": "stream",
     "text": [
      "100%|██████████| 259/259 [00:04<00:00, 54.51it/s]\n",
      "Uploading Dataframe: 100.00% |██████████| Rows 2277340/2277340 | Elapsed Time: 02:24 | Remaining Time: 00:00\n",
      "UserWarning: Materialization job is already running, aborting new execution.Please wait for the current execution to finish before triggering a new one.You can check the status of the current execution using `fg.materialization_job.get_state()`.or `fg.materialization_job.get_final_state()` or check it out in the Hopsworks UI.at https://c.app.hopsworks.ai:443/p/1207467/jobs/named/time_series_hourly_feature_group_1_offline_fg_materialization.\n",
      "Use fg.materialization_job.run(args=-op offline_fg_materialization -path hdfs:///Projects/taxidemand/Resources/jobs/time_series_hourly_feature_group_1_offline_fg_materialization/config_1737213954207) to trigger the materialization job again.\n"
     ]
    },
    {
     "name": "stdout",
     "output_type": "stream",
     "text": [
      " File 2024-01 already exists\n",
      " File 2024-02 already exists\n",
      " File 2024-03 already exists\n",
      " File 2024-04 already exists\n",
      " File 2024-05 already exists\n",
      " File 2024-06 already exists\n",
      " File 2024-07 already exists\n",
      " File 2024-08 already exists\n",
      " File 2024-09 already exists\n",
      " File 2024-10 already exists\n",
      "Downloading file 2024-11\n",
      "Downloading file 2024-12\n",
      "Failed to download 2024-12\n"
     ]
    },
    {
     "name": "stderr",
     "output_type": "stream",
     "text": [
      "100%|██████████| 259/259 [00:04<00:00, 54.72it/s]\n",
      "Uploading Dataframe: 100.00% |██████████| Rows 2090140/2090140 | Elapsed Time: 02:13 | Remaining Time: 00:00\n"
     ]
    },
    {
     "name": "stdout",
     "output_type": "stream",
     "text": [
      "Launching job: time_series_hourly_feature_group_1_offline_fg_materialization\n",
      "Job started successfully, you can follow the progress at \n",
      "https://c.app.hopsworks.ai:443/p/1207467/jobs/named/time_series_hourly_feature_group_1_offline_fg_materialization/executions\n",
      "Downloading file 2025-01\n",
      "Failed to download 2025-01\n",
      "Downloading file 2025-02\n",
      "Failed to download 2025-02\n",
      "Downloading file 2025-03\n",
      "Failed to download 2025-03\n",
      "Downloading file 2025-04\n",
      "Failed to download 2025-04\n",
      "Downloading file 2025-05\n",
      "Failed to download 2025-05\n",
      "Downloading file 2025-06\n",
      "Failed to download 2025-06\n",
      "Downloading file 2025-07\n",
      "Failed to download 2025-07\n",
      "Downloading file 2025-08\n",
      "Failed to download 2025-08\n",
      "Downloading file 2025-09\n",
      "Failed to download 2025-09\n",
      "Downloading file 2025-10\n",
      "Failed to download 2025-10\n",
      "Downloading file 2025-11\n",
      "Failed to download 2025-11\n",
      "Downloading file 2025-12\n",
      "Failed to download 2025-12\n"
     ]
    },
    {
     "ename": "Exception",
     "evalue": "No data for the year 2025",
     "output_type": "error",
     "traceback": [
      "\u001b[1;31m---------------------------------------------------------------------------\u001b[0m",
      "\u001b[1;31mException\u001b[0m                                 Traceback (most recent call last)",
      "Cell \u001b[1;32mIn[3], line 11\u001b[0m\n\u001b[0;32m      9\u001b[0m rides \u001b[38;5;241m=\u001b[39m pd\u001b[38;5;241m.\u001b[39mDataFrame()\n\u001b[0;32m     10\u001b[0m \u001b[38;5;28;01mfor\u001b[39;00m year \u001b[38;5;129;01min\u001b[39;00m \u001b[38;5;28mrange\u001b[39m(from_year, to_year \u001b[38;5;241m+\u001b[39m \u001b[38;5;241m1\u001b[39m):\n\u001b[1;32m---> 11\u001b[0m     rides_one_year \u001b[38;5;241m=\u001b[39m \u001b[43mload_raw_data\u001b[49m\u001b[43m(\u001b[49m\u001b[43myear\u001b[49m\u001b[43m)\u001b[49m\n\u001b[0;32m     12\u001b[0m     ts_data \u001b[38;5;241m=\u001b[39m transform_raw_data_into_ts_data(rides_one_year)\n\u001b[0;32m     13\u001b[0m     feature_group\u001b[38;5;241m.\u001b[39minsert(ts_data, write_options\u001b[38;5;241m=\u001b[39m{\u001b[38;5;124m\"\u001b[39m\u001b[38;5;124mwait_for_job\u001b[39m\u001b[38;5;124m\"\u001b[39m: \u001b[38;5;28;01mFalse\u001b[39;00m})\n",
      "File \u001b[1;32m~\\Desktop\\taxi_demand_predictor\\src\\data.py:126\u001b[0m, in \u001b[0;36mload_raw_data\u001b[1;34m(year, months)\u001b[0m\n\u001b[0;32m    124\u001b[0m     \u001b[38;5;28;01mreturn\u001b[39;00m rides\n\u001b[0;32m    125\u001b[0m \u001b[38;5;28;01melse\u001b[39;00m:\n\u001b[1;32m--> 126\u001b[0m     \u001b[38;5;28;01mraise\u001b[39;00m \u001b[38;5;167;01mException\u001b[39;00m (\u001b[38;5;124mf\u001b[39m\u001b[38;5;124m\"\u001b[39m\u001b[38;5;124mNo data for the year \u001b[39m\u001b[38;5;132;01m{\u001b[39;00myear\u001b[38;5;132;01m}\u001b[39;00m\u001b[38;5;124m\"\u001b[39m)\n",
      "\u001b[1;31mException\u001b[0m: No data for the year 2025"
     ]
    }
   ],
   "source": [
    "from datetime import datetime\n",
    "import pandas as pd\n",
    "from src.data import load_raw_data\n",
    "\n",
    "from_year = 2022\n",
    "to_year = datetime.now().year\n",
    "print(f'Downloading raw data from {from_year} to {to_year}')\n",
    "\n",
    "rides = pd.DataFrame()\n",
    "for year in range(from_year, to_year + 1):\n",
    "    rides_one_year = load_raw_data(year)\n",
    "    ts_data = transform_raw_data_into_ts_data(rides_one_year)\n",
    "    feature_group.insert(ts_data, write_options={\"wait_for_job\": False})\n",
    "    #rides = pd.concat([rides, rides_one_year])"
   ]
  },
  {
   "cell_type": "code",
   "execution_count": null,
   "metadata": {},
   "outputs": [],
   "source": []
  }
 ],
 "metadata": {
  "kernelspec": {
   "display_name": "src-y3nyV4sh-py3.9",
   "language": "python",
   "name": "python3"
  },
  "language_info": {
   "codemirror_mode": {
    "name": "ipython",
    "version": 3
   },
   "file_extension": ".py",
   "mimetype": "text/x-python",
   "name": "python",
   "nbconvert_exporter": "python",
   "pygments_lexer": "ipython3",
   "version": "3.9.13"
  }
 },
 "nbformat": 4,
 "nbformat_minor": 2
}
