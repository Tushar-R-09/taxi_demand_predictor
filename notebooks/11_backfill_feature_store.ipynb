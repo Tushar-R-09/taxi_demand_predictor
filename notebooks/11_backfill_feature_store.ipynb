{
 "cells": [
  {
   "cell_type": "code",
   "execution_count": 1,
   "metadata": {},
   "outputs": [],
   "source": [
    "HOPSWORK_PROJECT_NAME = \"taxidemand001\""
   ]
  },
  {
   "cell_type": "code",
   "execution_count": 2,
   "metadata": {},
   "outputs": [],
   "source": [
    "import os\n",
    "from dotenv import load_dotenv\n",
    "from src.paths import PARENT_DIR\n",
    "\n",
    "load_dotenv(PARENT_DIR / \".env\")\n",
    "\n",
    "HOPSWORK_API_KEY = os.environ[\"HOPSWORK_API_KEY\"]"
   ]
  },
  {
   "cell_type": "code",
   "execution_count": 3,
   "metadata": {},
   "outputs": [
    {
     "name": "stdout",
     "output_type": "stream",
     "text": [
      "Downloading raw data from 2022 to 2024\n",
      " File 2022-01 already exists\n",
      " File 2022-02 already exists\n",
      " File 2022-03 already exists\n",
      " File 2022-04 already exists\n",
      " File 2022-05 already exists\n",
      " File 2022-06 already exists\n",
      " File 2022-07 already exists\n",
      " File 2022-08 already exists\n",
      " File 2022-09 already exists\n",
      " File 2022-10 already exists\n",
      " File 2022-11 already exists\n",
      " File 2022-12 already exists\n",
      " File 2023-01 already exists\n",
      " File 2023-02 already exists\n",
      " File 2023-03 already exists\n",
      " File 2023-04 already exists\n",
      " File 2023-05 already exists\n",
      " File 2023-06 already exists\n",
      " File 2023-07 already exists\n",
      " File 2023-08 already exists\n",
      " File 2023-09 already exists\n",
      " File 2023-10 already exists\n",
      " File 2023-11 already exists\n",
      " File 2023-12 already exists\n",
      " File 2024-01 already exists\n",
      " File 2024-02 already exists\n",
      " File 2024-03 already exists\n",
      " File 2024-04 already exists\n",
      " File 2024-05 already exists\n",
      " File 2024-06 already exists\n",
      " File 2024-07 already exists\n",
      " File 2024-08 already exists\n",
      " File 2024-09 already exists\n",
      " File 2024-10 already exists\n",
      "Downloading file 2024-11\n",
      "Failed to download 2024-11\n",
      "Downloading file 2024-12\n",
      "Failed to download 2024-12\n"
     ]
    }
   ],
   "source": [
    "from datetime import datetime\n",
    "import pandas as pd\n",
    "from src.data import load_raw_data\n",
    "\n",
    "from_year = 2022\n",
    "to_year = datetime.now().year\n",
    "print(f'Downloading raw data from {from_year} to {to_year}')\n",
    "\n",
    "rides = pd.DataFrame()\n",
    "for year in range(from_year, to_year + 1):\n",
    "    rides_one_year = load_raw_data(year)\n",
    "    rides = pd.concat([rides, rides_one_year])"
   ]
  },
  {
   "cell_type": "code",
   "execution_count": 5,
   "metadata": {},
   "outputs": [
    {
     "name": "stderr",
     "output_type": "stream",
     "text": [
      "C:\\Users\\LENOVO\\Desktop\\taxi_demand_predictor\\src\\data.py:108: FutureWarning: 'H' is deprecated and will be removed in a future version, please use 'h' instead.\n",
      "  rides[\"pickup_hour\"] = rides['pickup_datetime'].dt.floor('H')\n",
      "C:\\Users\\LENOVO\\Desktop\\taxi_demand_predictor\\src\\data.py:83: FutureWarning: 'H' is deprecated and will be removed in a future version, please use 'h' instead.\n",
      "  full_range = pd.date_range(\n",
      "100%|██████████| 263/263 [00:16<00:00, 15.47it/s]\n"
     ]
    }
   ],
   "source": [
    "from src.data import transform_raw_data_into_ts_data\n",
    "ts_data = transform_raw_data_into_ts_data(rides)"
   ]
  },
  {
   "cell_type": "code",
   "execution_count": 6,
   "metadata": {},
   "outputs": [
    {
     "data": {
      "text/plain": [
       "(6532920, 3)"
      ]
     },
     "execution_count": 6,
     "metadata": {},
     "output_type": "execute_result"
    }
   ],
   "source": [
    "ts_data.shape"
   ]
  },
  {
   "cell_type": "code",
   "execution_count": 7,
   "metadata": {},
   "outputs": [],
   "source": [
    "import hopsworks"
   ]
  },
  {
   "cell_type": "code",
   "execution_count": null,
   "metadata": {},
   "outputs": [],
   "source": []
  }
 ],
 "metadata": {
  "kernelspec": {
   "display_name": "src-y3nyV4sh-py3.9",
   "language": "python",
   "name": "python3"
  },
  "language_info": {
   "codemirror_mode": {
    "name": "ipython",
    "version": 3
   },
   "file_extension": ".py",
   "mimetype": "text/x-python",
   "name": "python",
   "nbconvert_exporter": "python",
   "pygments_lexer": "ipython3",
   "version": "3.9.13"
  }
 },
 "nbformat": 4,
 "nbformat_minor": 2
}
