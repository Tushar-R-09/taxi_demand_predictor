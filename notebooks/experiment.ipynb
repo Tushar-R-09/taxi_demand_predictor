{
 "cells": [
  {
   "cell_type": "code",
   "execution_count": 3,
   "metadata": {},
   "outputs": [],
   "source": [
    "from src.inference import get_feature_store\n",
    "import src.config as config\n",
    "import pandas as pd\n",
    "from datetime import datetime, timezone, timedelta"
   ]
  },
  {
   "cell_type": "code",
   "execution_count": 4,
   "metadata": {},
   "outputs": [
    {
     "name": "stdout",
     "output_type": "stream",
     "text": [
      "2025-01-14 15:06:00,409 INFO: Closing external client and cleaning up certificates.\n",
      "Connection closed.\n",
      "2025-01-14 15:06:00,432 INFO: Initializing external client\n",
      "2025-01-14 15:06:00,433 INFO: Base URL: https://c.app.hopsworks.ai:443\n",
      "2025-01-14 15:06:02,443 INFO: Python Engine initialized.\n",
      "\n",
      "Logged in to project, explore it here https://c.app.hopsworks.ai:443/p/1207467\n",
      "Finished: Reading data from Hopsworks, using Hopsworks Feature Query Service (7.83s) \n"
     ]
    }
   ],
   "source": [
    "current_date = pd.to_datetime(datetime.now(timezone.utc)).floor('H')\n",
    "feature_store = get_feature_store()\n",
    "n_features = config.N_FEATURES\n",
    "\n",
    "fetch_data_to = current_date - timedelta(hours=1)\n",
    "fetch_data_from = current_date - timedelta(days=28)\n",
    "feature_view = feature_store.get_feature_view(\n",
    "    name=config.FEATURE_VIEW_NAME,\n",
    "    version=config.FEATURE_VIEW_VERSION\n",
    ")\n",
    "\n",
    "ts_data = feature_view.get_batch_data(\n",
    "    start_time=(fetch_data_from - timedelta(days = 1)),\n",
    "    end_time = (fetch_data_to + timedelta(days = 1))\n",
    ")\n",
    "\n",
    "ts_data = ts_data[ts_data.pickup_hour.between(fetch_data_from\n",
    "                                                , fetch_data_to)]\n",
    "\n",
    "location_ids = ts_data['pickup_location_id'].unique()"
   ]
  },
  {
   "cell_type": "code",
   "execution_count": 5,
   "metadata": {},
   "outputs": [
    {
     "data": {
      "text/plain": [
       "pickup_hour\n",
       "2024-12-17 09:00:00+00:00    260\n",
       "2024-12-17 10:00:00+00:00    260\n",
       "2024-12-17 11:00:00+00:00    260\n",
       "2024-12-17 12:00:00+00:00    260\n",
       "2024-12-17 13:00:00+00:00    260\n",
       "                            ... \n",
       "2025-01-14 04:00:00+00:00    260\n",
       "2025-01-14 05:00:00+00:00    260\n",
       "2025-01-14 06:00:00+00:00    260\n",
       "2025-01-14 07:00:00+00:00    260\n",
       "2025-01-14 08:00:00+00:00    260\n",
       "Name: pickup_location_id, Length: 672, dtype: int64"
      ]
     },
     "execution_count": 5,
     "metadata": {},
     "output_type": "execute_result"
    }
   ],
   "source": [
    "ts_data.groupby('pickup_hour')['pickup_location_id'].nunique()"
   ]
  },
  {
   "cell_type": "code",
   "execution_count": null,
   "metadata": {},
   "outputs": [],
   "source": []
  }
 ],
 "metadata": {
  "kernelspec": {
   "display_name": "src-y3nyV4sh-py3.9",
   "language": "python",
   "name": "python3"
  },
  "language_info": {
   "codemirror_mode": {
    "name": "ipython",
    "version": 3
   },
   "file_extension": ".py",
   "mimetype": "text/x-python",
   "name": "python",
   "nbconvert_exporter": "python",
   "pygments_lexer": "ipython3",
   "version": "3.9.13"
  }
 },
 "nbformat": 4,
 "nbformat_minor": 2
}
